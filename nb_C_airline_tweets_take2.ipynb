{
 "cells": [
  {
   "cell_type": "markdown",
   "metadata": {},
   "source": [
    "# CS 39AA - Notebook C: Improving the Airline Tweet Model\n",
    "\n",
    "We'll now revisit the Airline Tweet dataset and try to resolve some of the issues that identified at the end of [Notebook A](https://github/sgeinitz/cs39aa_notebooks/blob/main/nb_A_text_data_and_pandas.ipynb). \n",
    "\n",
    "[![Open In Colab](https://colab.research.google.com/assets/colab-badge.svg)](https://colab.research.google.com/github/sgeinitz/cs39aa_notebooks/blob/main/nb_C_airline_tweets_take2.ipynb)\n",
    "\n",
    "If you recall from Notebook A, we created a very simple ad hoc model that simply counted the most frequently occuring words in each of the three distinct classes (positive, negative, and neutral). Our '_model_' then would take a new tweet and check to see how many times these words appeared. If more positive words appeared, then we assigned that label, and so on for negative and neutral. \n",
    "\n",
    "At the end we listed three issues or areas for improvement. These were:\n",
    "1. __Better Tokenization:__ The tokenization is very crude right now. Simply splitting a tweet into tokens with the 'SPACE' character as a delimiter means that positive tokens like _\"awesome.\"_ and _\"awesome!\"_ are considered as two different tokens. Cases such as that one are relatively easy to solve since it just meaning removing some punctuation. However, different forms of a word, such as _\"delay\"_ and _\"delayed\"_ can cause some issues too. For our ad hoc modeling approach above, resolving these tokenization don't seem to affect the outcome too much right now. But, once we try to use a proper model (e.g. naive bayes, neural network, etc.), then these tokenization deficiences can affect model performance even more. For example, having all of the different forms of the verb _\"delay\"_ will mean that our model needs to have that many more parameters in it. \n",
    "2. __Vectorization__: Even with better tokenization, we still need to do more modify the data to be able to use other types of models. What we specifically need to do is convert the tokens into a numerical representation of some kind. When working text data, this process of converting text/tokens into a numerical representation will allow us to use many different types of models, including neural networks. \n",
    "3. __Modeling Process/Evaluation:__ The modeling process and assessment need to be improved. To start, our accuracy of {{mod_accuracy}} is not much better than if we simply label every tweet as negative (since 65% of all tweets are negative). So we need to be sure that we're comparing our model performance metrics to a suitable baseline. The larger issue, however, is that we don't have a validation and/or test set right now. We used all 10k observations to build our positive, negative, and neutral sets of words; then we check our accuracy on these exact same sets of tweets. To really understand how our model will work for a new tweet that we have never seen, and that is posted in the future, we need to remove a portion of the dataset from the 'training', then evaluate our model against this. \n",
    "\n",
    "### 1. Our ad hoc Model Improved\n",
    "Let's reexamine our ad hoc model with all of those issues/improvements addressed. As before, we'll open the data file that is hosted on github and quickly check it's shape and peek at the first few rows (after changing the default display width for a pandas dataframe column). "
   ]
  },
  {
   "cell_type": "code",
   "execution_count": 1,
   "metadata": {},
   "outputs": [],
   "source": [
    "import pandas as pd"
   ]
  },
  {
   "cell_type": "code",
   "execution_count": 2,
   "metadata": {},
   "outputs": [
    {
     "name": "stdout",
     "output_type": "stream",
     "text": [
      "df.shape: (10000, 2)\n"
     ]
    },
    {
     "data": {
      "text/html": [
       "<div>\n",
       "<style scoped>\n",
       "    .dataframe tbody tr th:only-of-type {\n",
       "        vertical-align: middle;\n",
       "    }\n",
       "\n",
       "    .dataframe tbody tr th {\n",
       "        vertical-align: top;\n",
       "    }\n",
       "\n",
       "    .dataframe thead th {\n",
       "        text-align: right;\n",
       "    }\n",
       "</style>\n",
       "<table border=\"1\" class=\"dataframe\">\n",
       "  <thead>\n",
       "    <tr style=\"text-align: right;\">\n",
       "      <th></th>\n",
       "      <th>sentiment</th>\n",
       "      <th>text</th>\n",
       "    </tr>\n",
       "  </thead>\n",
       "  <tbody>\n",
       "    <tr>\n",
       "      <th>0</th>\n",
       "      <td>positive</td>\n",
       "      <td>@JetBlue @JayVig I like the inflight snacks! I'm flying with you guys on 2/28! #JVMChat</td>\n",
       "    </tr>\n",
       "    <tr>\n",
       "      <th>1</th>\n",
       "      <td>positive</td>\n",
       "      <td>@VirginAmerica thanks guys! Sweet route over the Rockies #airplanemodewason</td>\n",
       "    </tr>\n",
       "    <tr>\n",
       "      <th>2</th>\n",
       "      <td>negative</td>\n",
       "      <td>@USAirways Your exchange/credit policies are worthless and shadier than the White House. Dissatisfied to the nines right now.</td>\n",
       "    </tr>\n",
       "    <tr>\n",
       "      <th>3</th>\n",
       "      <td>negative</td>\n",
       "      <td>@USAirways but in the meantime I'll be sleeping on a park bench on dadeland st.  Thanks guys!</td>\n",
       "    </tr>\n",
       "    <tr>\n",
       "      <th>4</th>\n",
       "      <td>negative</td>\n",
       "      <td>@VirginAmerica hold times at call center are a bit much</td>\n",
       "    </tr>\n",
       "    <tr>\n",
       "      <th>5</th>\n",
       "      <td>negative</td>\n",
       "      <td>@USAirways not moving we are in the tarmac delayed for some unknown reason. I'll keep you posted</td>\n",
       "    </tr>\n",
       "    <tr>\n",
       "      <th>6</th>\n",
       "      <td>neutral</td>\n",
       "      <td>@JetBlue What about if I booked it through Orbitz? My email is correct, but there's a middle party.</td>\n",
       "    </tr>\n",
       "    <tr>\n",
       "      <th>7</th>\n",
       "      <td>negative</td>\n",
       "      <td>@united 2nd flight also delayed no pilots! But they boarded is so we can just sit here! #scheduling</td>\n",
       "    </tr>\n",
       "    <tr>\n",
       "      <th>8</th>\n",
       "      <td>negative</td>\n",
       "      <td>.@AmericanAir after 50 minutes on hold, and another 30 minutes on the call yes. Going to be pushing it to get to the airport on time now</td>\n",
       "    </tr>\n",
       "    <tr>\n",
       "      <th>9</th>\n",
       "      <td>positive</td>\n",
       "      <td>@JetBlue flight 117. proud to fly Jet Blue!</td>\n",
       "    </tr>\n",
       "  </tbody>\n",
       "</table>\n",
       "</div>"
      ],
      "text/plain": [
       "  sentiment  \\\n",
       "0  positive   \n",
       "1  positive   \n",
       "2  negative   \n",
       "3  negative   \n",
       "4  negative   \n",
       "5  negative   \n",
       "6   neutral   \n",
       "7  negative   \n",
       "8  negative   \n",
       "9  positive   \n",
       "\n",
       "                                                                                                                                       text  \n",
       "0                                                   @JetBlue @JayVig I like the inflight snacks! I'm flying with you guys on 2/28! #JVMChat  \n",
       "1                                                               @VirginAmerica thanks guys! Sweet route over the Rockies #airplanemodewason  \n",
       "2             @USAirways Your exchange/credit policies are worthless and shadier than the White House. Dissatisfied to the nines right now.  \n",
       "3                                             @USAirways but in the meantime I'll be sleeping on a park bench on dadeland st.  Thanks guys!  \n",
       "4                                                                                   @VirginAmerica hold times at call center are a bit much  \n",
       "5                                          @USAirways not moving we are in the tarmac delayed for some unknown reason. I'll keep you posted  \n",
       "6                                       @JetBlue What about if I booked it through Orbitz? My email is correct, but there's a middle party.  \n",
       "7                                       @united 2nd flight also delayed no pilots! But they boarded is so we can just sit here! #scheduling  \n",
       "8  .@AmericanAir after 50 minutes on hold, and another 30 minutes on the call yes. Going to be pushing it to get to the airport on time now  \n",
       "9                                                                                               @JetBlue flight 117. proud to fly Jet Blue!  "
      ]
     },
     "execution_count": 2,
     "metadata": {},
     "output_type": "execute_result"
    }
   ],
   "source": [
    "data_URL = 'https://raw.githubusercontent.com/sgeinitz/cs39aa_notebooks/main/data/trainA.csv'\n",
    "df = pd.read_csv(data_URL)\n",
    "print(f\"df.shape: {df.shape}\")\n",
    "pd.set_option(\"display.max_colwidth\", 240)\n",
    "df.head(10)"
   ]
  },
  {
   "cell_type": "markdown",
   "metadata": {},
   "source": [
    "Recall that about 2/3 of the data have negative labels, and that the remaining labels are roughly split between positive and neutral (slightly more neutral than positive). "
   ]
  },
  {
   "cell_type": "code",
   "execution_count": 3,
   "metadata": {},
   "outputs": [
    {
     "data": {
      "text/plain": [
       "negative    0.6525\n",
       "neutral     0.1916\n",
       "positive    0.1559\n",
       "Name: sentiment, dtype: float64"
      ]
     },
     "execution_count": 3,
     "metadata": {},
     "output_type": "execute_result"
    }
   ],
   "source": [
    "df.sentiment.value_counts(normalize=True)"
   ]
  },
  {
   "cell_type": "markdown",
   "metadata": {},
   "source": [
    "Let's start with the nltk TweetTokenizer, which will split the text into separate words and characters based on common Twitter conventions. "
   ]
  },
  {
   "cell_type": "code",
   "execution_count": 4,
   "metadata": {},
   "outputs": [
    {
     "data": {
      "text/html": [
       "<div>\n",
       "<style scoped>\n",
       "    .dataframe tbody tr th:only-of-type {\n",
       "        vertical-align: middle;\n",
       "    }\n",
       "\n",
       "    .dataframe tbody tr th {\n",
       "        vertical-align: top;\n",
       "    }\n",
       "\n",
       "    .dataframe thead th {\n",
       "        text-align: right;\n",
       "    }\n",
       "</style>\n",
       "<table border=\"1\" class=\"dataframe\">\n",
       "  <thead>\n",
       "    <tr style=\"text-align: right;\">\n",
       "      <th></th>\n",
       "      <th>sentiment</th>\n",
       "      <th>text</th>\n",
       "      <th>tokens_raw</th>\n",
       "    </tr>\n",
       "  </thead>\n",
       "  <tbody>\n",
       "    <tr>\n",
       "      <th>0</th>\n",
       "      <td>positive</td>\n",
       "      <td>@JetBlue @JayVig I like the inflight snacks! I'm flying with you guys on 2/28! #JVMChat</td>\n",
       "      <td>[@jetblue, @jayvig, i, like, the, inflight, snacks, !, i'm, flying, with, you, guys, on, 2/28, !, #jvmchat]</td>\n",
       "    </tr>\n",
       "    <tr>\n",
       "      <th>1</th>\n",
       "      <td>positive</td>\n",
       "      <td>@VirginAmerica thanks guys! Sweet route over the Rockies #airplanemodewason</td>\n",
       "      <td>[@virginamerica, thanks, guys, !, sweet, route, over, the, rockies, #airplanemodewason]</td>\n",
       "    </tr>\n",
       "    <tr>\n",
       "      <th>2</th>\n",
       "      <td>negative</td>\n",
       "      <td>@USAirways Your exchange/credit policies are worthless and shadier than the White House. Dissatisfied to the nines right now.</td>\n",
       "      <td>[@usairways, your, exchange, /, credit, policies, are, worthless, and, shadier, than, the, white, house, ., dissatisfied, to, the, nines, right, now, .]</td>\n",
       "    </tr>\n",
       "    <tr>\n",
       "      <th>3</th>\n",
       "      <td>negative</td>\n",
       "      <td>@USAirways but in the meantime I'll be sleeping on a park bench on dadeland st.  Thanks guys!</td>\n",
       "      <td>[@usairways, but, in, the, meantime, i'll, be, sleeping, on, a, park, bench, on, dadeland, st, ., thanks, guys, !]</td>\n",
       "    </tr>\n",
       "    <tr>\n",
       "      <th>4</th>\n",
       "      <td>negative</td>\n",
       "      <td>@VirginAmerica hold times at call center are a bit much</td>\n",
       "      <td>[@virginamerica, hold, times, at, call, center, are, a, bit, much]</td>\n",
       "    </tr>\n",
       "  </tbody>\n",
       "</table>\n",
       "</div>"
      ],
      "text/plain": [
       "  sentiment  \\\n",
       "0  positive   \n",
       "1  positive   \n",
       "2  negative   \n",
       "3  negative   \n",
       "4  negative   \n",
       "\n",
       "                                                                                                                            text  \\\n",
       "0                                        @JetBlue @JayVig I like the inflight snacks! I'm flying with you guys on 2/28! #JVMChat   \n",
       "1                                                    @VirginAmerica thanks guys! Sweet route over the Rockies #airplanemodewason   \n",
       "2  @USAirways Your exchange/credit policies are worthless and shadier than the White House. Dissatisfied to the nines right now.   \n",
       "3                                  @USAirways but in the meantime I'll be sleeping on a park bench on dadeland st.  Thanks guys!   \n",
       "4                                                                        @VirginAmerica hold times at call center are a bit much   \n",
       "\n",
       "                                                                                                                                                 tokens_raw  \n",
       "0                                               [@jetblue, @jayvig, i, like, the, inflight, snacks, !, i'm, flying, with, you, guys, on, 2/28, !, #jvmchat]  \n",
       "1                                                                   [@virginamerica, thanks, guys, !, sweet, route, over, the, rockies, #airplanemodewason]  \n",
       "2  [@usairways, your, exchange, /, credit, policies, are, worthless, and, shadier, than, the, white, house, ., dissatisfied, to, the, nines, right, now, .]  \n",
       "3                                        [@usairways, but, in, the, meantime, i'll, be, sleeping, on, a, park, bench, on, dadeland, st, ., thanks, guys, !]  \n",
       "4                                                                                        [@virginamerica, hold, times, at, call, center, are, a, bit, much]  "
      ]
     },
     "execution_count": 4,
     "metadata": {},
     "output_type": "execute_result"
    }
   ],
   "source": [
    "from nltk.tokenize import TweetTokenizer\n",
    "tk = TweetTokenizer()\n",
    "df['tokens_raw'] = df['text'].apply(lambda x: tk.tokenize(x.lower()))\n",
    "df.head()"
   ]
  },
  {
   "cell_type": "markdown",
   "metadata": {},
   "source": [
    "Next, let's remove common stop words (e.g. \"_the_\", \"_in_\", etc.). In this next cell we will also remove some characters/punctuation, as well as hashtag tokens. "
   ]
  },
  {
   "cell_type": "code",
   "execution_count": 5,
   "metadata": {},
   "outputs": [
    {
     "data": {
      "text/html": [
       "<div>\n",
       "<style scoped>\n",
       "    .dataframe tbody tr th:only-of-type {\n",
       "        vertical-align: middle;\n",
       "    }\n",
       "\n",
       "    .dataframe tbody tr th {\n",
       "        vertical-align: top;\n",
       "    }\n",
       "\n",
       "    .dataframe thead th {\n",
       "        text-align: right;\n",
       "    }\n",
       "</style>\n",
       "<table border=\"1\" class=\"dataframe\">\n",
       "  <thead>\n",
       "    <tr style=\"text-align: right;\">\n",
       "      <th></th>\n",
       "      <th>sentiment</th>\n",
       "      <th>text</th>\n",
       "      <th>tokens_raw</th>\n",
       "    </tr>\n",
       "  </thead>\n",
       "  <tbody>\n",
       "    <tr>\n",
       "      <th>0</th>\n",
       "      <td>positive</td>\n",
       "      <td>@JetBlue @JayVig I like the inflight snacks! I'm flying with you guys on 2/28! #JVMChat</td>\n",
       "      <td>[@jetblue, @jayvig, like, inflight, snacks, i'm, flying, guys, 2/28]</td>\n",
       "    </tr>\n",
       "    <tr>\n",
       "      <th>1</th>\n",
       "      <td>positive</td>\n",
       "      <td>@VirginAmerica thanks guys! Sweet route over the Rockies #airplanemodewason</td>\n",
       "      <td>[@virginamerica, thanks, guys, sweet, route, rockies]</td>\n",
       "    </tr>\n",
       "    <tr>\n",
       "      <th>2</th>\n",
       "      <td>negative</td>\n",
       "      <td>@USAirways Your exchange/credit policies are worthless and shadier than the White House. Dissatisfied to the nines right now.</td>\n",
       "      <td>[@usairways, exchange, credit, policies, worthless, shadier, white, house, dissatisfied, nines, right]</td>\n",
       "    </tr>\n",
       "    <tr>\n",
       "      <th>3</th>\n",
       "      <td>negative</td>\n",
       "      <td>@USAirways but in the meantime I'll be sleeping on a park bench on dadeland st.  Thanks guys!</td>\n",
       "      <td>[@usairways, meantime, i'll, sleeping, park, bench, dadeland, st, thanks, guys]</td>\n",
       "    </tr>\n",
       "    <tr>\n",
       "      <th>4</th>\n",
       "      <td>negative</td>\n",
       "      <td>@VirginAmerica hold times at call center are a bit much</td>\n",
       "      <td>[@virginamerica, hold, times, call, center, bit, much]</td>\n",
       "    </tr>\n",
       "  </tbody>\n",
       "</table>\n",
       "</div>"
      ],
      "text/plain": [
       "  sentiment  \\\n",
       "0  positive   \n",
       "1  positive   \n",
       "2  negative   \n",
       "3  negative   \n",
       "4  negative   \n",
       "\n",
       "                                                                                                                            text  \\\n",
       "0                                        @JetBlue @JayVig I like the inflight snacks! I'm flying with you guys on 2/28! #JVMChat   \n",
       "1                                                    @VirginAmerica thanks guys! Sweet route over the Rockies #airplanemodewason   \n",
       "2  @USAirways Your exchange/credit policies are worthless and shadier than the White House. Dissatisfied to the nines right now.   \n",
       "3                                  @USAirways but in the meantime I'll be sleeping on a park bench on dadeland st.  Thanks guys!   \n",
       "4                                                                        @VirginAmerica hold times at call center are a bit much   \n",
       "\n",
       "                                                                                               tokens_raw  \n",
       "0                                    [@jetblue, @jayvig, like, inflight, snacks, i'm, flying, guys, 2/28]  \n",
       "1                                                   [@virginamerica, thanks, guys, sweet, route, rockies]  \n",
       "2  [@usairways, exchange, credit, policies, worthless, shadier, white, house, dissatisfied, nines, right]  \n",
       "3                         [@usairways, meantime, i'll, sleeping, park, bench, dadeland, st, thanks, guys]  \n",
       "4                                                  [@virginamerica, hold, times, call, center, bit, much]  "
      ]
     },
     "execution_count": 5,
     "metadata": {},
     "output_type": "execute_result"
    }
   ],
   "source": [
    "import re\n",
    "from nltk.corpus import stopwords\n",
    "stops = set(stopwords.words('english'))\n",
    "chars2remove = set(['.','!','/', '?'])\n",
    "df['tokens_raw'] = df['tokens_raw'].apply(lambda x: [w for w in x if w not in stops])\n",
    "df['tokens_raw'] = df['tokens_raw'].apply(lambda x: [w for w in x if w not in chars2remove])\n",
    "df['tokens_raw'] = df['tokens_raw'].apply(lambda x: [w for w in x if not re.match('^#', w)]) # remove hashtags\n",
    "#df['tokens_raw'] = df['tokens_raw'].apply(lambda x: [w for w in x if not re.match('^http', w)]) # remove web links\n",
    "#df['tokens_raw'] = df['tokens_raw'].apply(lambda x: [w for w in x if not re.match('^@', w)]) # remove web links\n",
    "\n",
    "df.head()"
   ]
  },
  {
   "cell_type": "markdown",
   "metadata": {},
   "source": [
    "For the final step of text pre-processing we will lemmatize the tokens. Note that there are much better ways to do this but that we want to use a simple lemmatizer. For example, some lemmatizers also utilize a model internally to predict the part-of-speech for each word, since whether the word is a noun, adjective, verb, etc. will affect how lemmatization is done. Since we want to keep things simple here, and focus only on the lemmatization step, we'll assume every word is the same part of speech. Note that this is not by any means ideal (try to identify the incorrectly lemmatized token in the five tweets printed out below). In practice we would certainly utilize a 'smarter' lemmatizer ."
   ]
  },
  {
   "cell_type": "code",
   "execution_count": 6,
   "metadata": {},
   "outputs": [
    {
     "data": {
      "text/html": [
       "<div>\n",
       "<style scoped>\n",
       "    .dataframe tbody tr th:only-of-type {\n",
       "        vertical-align: middle;\n",
       "    }\n",
       "\n",
       "    .dataframe tbody tr th {\n",
       "        vertical-align: top;\n",
       "    }\n",
       "\n",
       "    .dataframe thead th {\n",
       "        text-align: right;\n",
       "    }\n",
       "</style>\n",
       "<table border=\"1\" class=\"dataframe\">\n",
       "  <thead>\n",
       "    <tr style=\"text-align: right;\">\n",
       "      <th></th>\n",
       "      <th>sentiment</th>\n",
       "      <th>text</th>\n",
       "      <th>tokens_raw</th>\n",
       "      <th>tokens</th>\n",
       "    </tr>\n",
       "  </thead>\n",
       "  <tbody>\n",
       "    <tr>\n",
       "      <th>0</th>\n",
       "      <td>positive</td>\n",
       "      <td>@JetBlue @JayVig I like the inflight snacks! I'm flying with you guys on 2/28! #JVMChat</td>\n",
       "      <td>[@jetblue, @jayvig, like, inflight, snacks, i'm, flying, guys, 2/28]</td>\n",
       "      <td>[@jetblue, @jayvig, like, inflight, snack, i'm, fly, guy, 2/28]</td>\n",
       "    </tr>\n",
       "    <tr>\n",
       "      <th>1</th>\n",
       "      <td>positive</td>\n",
       "      <td>@VirginAmerica thanks guys! Sweet route over the Rockies #airplanemodewason</td>\n",
       "      <td>[@virginamerica, thanks, guys, sweet, route, rockies]</td>\n",
       "      <td>[@virginamerica, thank, guy, sweet, route, rockies]</td>\n",
       "    </tr>\n",
       "    <tr>\n",
       "      <th>2</th>\n",
       "      <td>negative</td>\n",
       "      <td>@USAirways Your exchange/credit policies are worthless and shadier than the White House. Dissatisfied to the nines right now.</td>\n",
       "      <td>[@usairways, exchange, credit, policies, worthless, shadier, white, house, dissatisfied, nines, right]</td>\n",
       "      <td>[@usairways, exchange, credit, policies, worthless, shadier, white, house, dissatisfy, nines, right]</td>\n",
       "    </tr>\n",
       "    <tr>\n",
       "      <th>3</th>\n",
       "      <td>negative</td>\n",
       "      <td>@USAirways but in the meantime I'll be sleeping on a park bench on dadeland st.  Thanks guys!</td>\n",
       "      <td>[@usairways, meantime, i'll, sleeping, park, bench, dadeland, st, thanks, guys]</td>\n",
       "      <td>[@usairways, meantime, i'll, sleep, park, bench, dadeland, st, thank, guy]</td>\n",
       "    </tr>\n",
       "    <tr>\n",
       "      <th>4</th>\n",
       "      <td>negative</td>\n",
       "      <td>@VirginAmerica hold times at call center are a bit much</td>\n",
       "      <td>[@virginamerica, hold, times, call, center, bit, much]</td>\n",
       "      <td>[@virginamerica, hold, time, call, center, bite, much]</td>\n",
       "    </tr>\n",
       "  </tbody>\n",
       "</table>\n",
       "</div>"
      ],
      "text/plain": [
       "  sentiment  \\\n",
       "0  positive   \n",
       "1  positive   \n",
       "2  negative   \n",
       "3  negative   \n",
       "4  negative   \n",
       "\n",
       "                                                                                                                            text  \\\n",
       "0                                        @JetBlue @JayVig I like the inflight snacks! I'm flying with you guys on 2/28! #JVMChat   \n",
       "1                                                    @VirginAmerica thanks guys! Sweet route over the Rockies #airplanemodewason   \n",
       "2  @USAirways Your exchange/credit policies are worthless and shadier than the White House. Dissatisfied to the nines right now.   \n",
       "3                                  @USAirways but in the meantime I'll be sleeping on a park bench on dadeland st.  Thanks guys!   \n",
       "4                                                                        @VirginAmerica hold times at call center are a bit much   \n",
       "\n",
       "                                                                                               tokens_raw  \\\n",
       "0                                    [@jetblue, @jayvig, like, inflight, snacks, i'm, flying, guys, 2/28]   \n",
       "1                                                   [@virginamerica, thanks, guys, sweet, route, rockies]   \n",
       "2  [@usairways, exchange, credit, policies, worthless, shadier, white, house, dissatisfied, nines, right]   \n",
       "3                         [@usairways, meantime, i'll, sleeping, park, bench, dadeland, st, thanks, guys]   \n",
       "4                                                  [@virginamerica, hold, times, call, center, bit, much]   \n",
       "\n",
       "                                                                                                 tokens  \n",
       "0                                       [@jetblue, @jayvig, like, inflight, snack, i'm, fly, guy, 2/28]  \n",
       "1                                                   [@virginamerica, thank, guy, sweet, route, rockies]  \n",
       "2  [@usairways, exchange, credit, policies, worthless, shadier, white, house, dissatisfy, nines, right]  \n",
       "3                            [@usairways, meantime, i'll, sleep, park, bench, dadeland, st, thank, guy]  \n",
       "4                                                [@virginamerica, hold, time, call, center, bite, much]  "
      ]
     },
     "execution_count": 6,
     "metadata": {},
     "output_type": "execute_result"
    }
   ],
   "source": [
    "from nltk.stem import WordNetLemmatizer\n",
    "# also need to run following one time on your system (can be done outside of this notebook)\n",
    "# import nltk\n",
    "# nltk.download('wordnet')\n",
    "# nltk.download('omw-1.4')\n",
    "lemmatizer = WordNetLemmatizer()\n",
    "df['tokens'] = df['tokens_raw'].apply(lambda x: [lemmatizer.lemmatize(w, pos=\"v\") for w in x])\n",
    "#df['tokens'] = df['tokens_raw'].apply(lambda x: [lemmatizer.lemmatize(w) for w in x])\n",
    "df.head()"
   ]
  },
  {
   "cell_type": "markdown",
   "metadata": {},
   "source": [
    "Since each tweet is currently stored as a string we then created a new column that was a list of each of the words in the tweet (since the default delimiter is a space character). Next, we created a vocabularly sorted by frequency for the full dataset, the subset of positive tweets, negative tweets, and neutral tweets. "
   ]
  },
  {
   "cell_type": "code",
   "execution_count": 7,
   "metadata": {},
   "outputs": [
    {
     "name": "stdout",
     "output_type": "stream",
     "text": [
      "df.shape: (8500, 4)\n",
      "df_test.shape: (1500, 4)\n"
     ]
    },
    {
     "data": {
      "text/html": [
       "<div>\n",
       "<style scoped>\n",
       "    .dataframe tbody tr th:only-of-type {\n",
       "        vertical-align: middle;\n",
       "    }\n",
       "\n",
       "    .dataframe tbody tr th {\n",
       "        vertical-align: top;\n",
       "    }\n",
       "\n",
       "    .dataframe thead th {\n",
       "        text-align: right;\n",
       "    }\n",
       "</style>\n",
       "<table border=\"1\" class=\"dataframe\">\n",
       "  <thead>\n",
       "    <tr style=\"text-align: right;\">\n",
       "      <th></th>\n",
       "      <th>sentiment</th>\n",
       "      <th>text</th>\n",
       "      <th>tokens_raw</th>\n",
       "      <th>tokens</th>\n",
       "    </tr>\n",
       "  </thead>\n",
       "  <tbody>\n",
       "    <tr>\n",
       "      <th>4668</th>\n",
       "      <td>neutral</td>\n",
       "      <td>@AmericanAir 767 seconds from touchdown at Madrid airport in April 2013 #AvGeek http://t.co/1yWXRfn0Gr</td>\n",
       "      <td>[@americanair, 767, seconds, touchdown, madrid, airport, april, 2013, http://t.co/1ywxrfn0gr]</td>\n",
       "      <td>[@americanair, 767, second, touchdown, madrid, airport, april, 2013, http://t.co/1ywxrfn0gr]</td>\n",
       "    </tr>\n",
       "    <tr>\n",
       "      <th>7277</th>\n",
       "      <td>positive</td>\n",
       "      <td>@SouthwestAir luv my companion pass!</td>\n",
       "      <td>[@southwestair, luv, companion, pass]</td>\n",
       "      <td>[@southwestair, luv, companion, pass]</td>\n",
       "    </tr>\n",
       "    <tr>\n",
       "      <th>3891</th>\n",
       "      <td>negative</td>\n",
       "      <td>@AmericanAir @lpalumbo what weather sun is out</td>\n",
       "      <td>[@americanair, @lpalumbo, weather, sun]</td>\n",
       "      <td>[@americanair, @lpalumbo, weather, sun]</td>\n",
       "    </tr>\n",
       "    <tr>\n",
       "      <th>5968</th>\n",
       "      <td>negative</td>\n",
       "      <td>@AmericanAir now a delay to the rebooked flight?!</td>\n",
       "      <td>[@americanair, delay, rebooked, flight]</td>\n",
       "      <td>[@americanair, delay, rebooked, flight]</td>\n",
       "    </tr>\n",
       "    <tr>\n",
       "      <th>6731</th>\n",
       "      <td>neutral</td>\n",
       "      <td>@USAirways Ok Thanks</td>\n",
       "      <td>[@usairways, ok, thanks]</td>\n",
       "      <td>[@usairways, ok, thank]</td>\n",
       "    </tr>\n",
       "  </tbody>\n",
       "</table>\n",
       "</div>"
      ],
      "text/plain": [
       "     sentiment  \\\n",
       "4668   neutral   \n",
       "7277  positive   \n",
       "3891  negative   \n",
       "5968  negative   \n",
       "6731   neutral   \n",
       "\n",
       "                                                                                                        text  \\\n",
       "4668  @AmericanAir 767 seconds from touchdown at Madrid airport in April 2013 #AvGeek http://t.co/1yWXRfn0Gr   \n",
       "7277                                                                    @SouthwestAir luv my companion pass!   \n",
       "3891                                                          @AmericanAir @lpalumbo what weather sun is out   \n",
       "5968                                                       @AmericanAir now a delay to the rebooked flight?!   \n",
       "6731                                                                                    @USAirways Ok Thanks   \n",
       "\n",
       "                                                                                         tokens_raw  \\\n",
       "4668  [@americanair, 767, seconds, touchdown, madrid, airport, april, 2013, http://t.co/1ywxrfn0gr]   \n",
       "7277                                                          [@southwestair, luv, companion, pass]   \n",
       "3891                                                        [@americanair, @lpalumbo, weather, sun]   \n",
       "5968                                                        [@americanair, delay, rebooked, flight]   \n",
       "6731                                                                       [@usairways, ok, thanks]   \n",
       "\n",
       "                                                                                            tokens  \n",
       "4668  [@americanair, 767, second, touchdown, madrid, airport, april, 2013, http://t.co/1ywxrfn0gr]  \n",
       "7277                                                         [@southwestair, luv, companion, pass]  \n",
       "3891                                                       [@americanair, @lpalumbo, weather, sun]  \n",
       "5968                                                       [@americanair, delay, rebooked, flight]  \n",
       "6731                                                                       [@usairways, ok, thank]  "
      ]
     },
     "execution_count": 7,
     "metadata": {},
     "output_type": "execute_result"
    }
   ],
   "source": [
    "# empty cell\n",
    "# before we do the prediction let's split the dataset into validation and training subsets\n",
    "import random\n",
    "random.seed(42)\n",
    "\n",
    "df_full = df.copy()\n",
    "assert df_full.shape[0] == 10000\n",
    "\n",
    "indices = list(range(df_full.shape[0]))\n",
    "\n",
    "random.shuffle(indices)\n",
    "\n",
    "train_indices = indices[:8500]\n",
    "test_indices = indices[8500:]\n",
    "\n",
    "# df will be the in-sample training dataset\n",
    "df = df_full.iloc[train_indices,:].copy()\n",
    "print(f\"df.shape: {df.shape}\")\n",
    "\n",
    "# df_test will be the out-of-sample validation dataset\n",
    "df_test = df_full.iloc[test_indices,:].copy()\n",
    "print(f\"df_test.shape: {df_test.shape}\")\n",
    "df_test.head()"
   ]
  },
  {
   "cell_type": "code",
   "execution_count": 8,
   "metadata": {},
   "outputs": [
    {
     "name": "stdout",
     "output_type": "stream",
     "text": [
      "number of unique tokens overall: 9455, pos tokens: 2663, neg: 6887, neu: 3626\n"
     ]
    }
   ],
   "source": [
    "# subset the data by positive, negative, and neutral\n",
    "df_pos = df[df['sentiment'] == 'positive']\n",
    "df_neg = df[df['sentiment'] == 'negative']\n",
    "df_neu = df[df['sentiment'] == 'neutral']\n",
    "\n",
    "def create_vocab_list(tokens_column):\n",
    "    vocab = dict()\n",
    "    for tweet_tokens in tokens_column:\n",
    "        for token in tweet_tokens:\n",
    "            if token not in vocab:\n",
    "                vocab[token] = 1\n",
    "            else:\n",
    "                vocab[token] += 1\n",
    "    return vocab\n",
    "\n",
    "vocab_all = dict(sorted(create_vocab_list(df['tokens']).items(), key=lambda item: item[1], reverse=True))\n",
    "vocab_pos = dict(sorted(create_vocab_list(df_pos['tokens']).items(), key=lambda item: item[1], reverse=True))\n",
    "vocab_neg = dict(sorted(create_vocab_list(df_neg['tokens']).items(), key=lambda item: item[1], reverse=True))\n",
    "vocab_neu = dict(sorted(create_vocab_list(df_neu['tokens']).items(), key=lambda item: item[1], reverse=True))\n",
    "print(f\"number of unique tokens overall: {len(vocab_all)}, pos tokens: {len(vocab_pos)}, neg: {len(vocab_neg)}, neu: {len(vocab_neu)}\")"
   ]
  },
  {
   "cell_type": "markdown",
   "metadata": {},
   "source": [
    "Recall that in our original notebook we had about ~20k unique tokens, and this is now down to ~10k. Even though this is an ad hoc model, it is likely still a good simplification of the data. If we were using a real model, then this will be really beneficial since it will directly translate to the number of parameters in our model (decreasing the number of parameters is usually good, particularly when we can maintain similar performance, and/or we have a small dataset). As we did last time, let's look at the most frequently occuring words across all classes (ignoring whether it's positive, negative, or neutral)."
   ]
  },
  {
   "cell_type": "code",
   "execution_count": 9,
   "metadata": {},
   "outputs": [
    {
     "data": {
      "text/plain": [
       "[('flight', 2849),\n",
       " (',', 2437),\n",
       " ('@united', 2262),\n",
       " ('@usairways', 1790),\n",
       " ('@americanair', 1733),\n",
       " ('@southwestair', 1413),\n",
       " ('@jetblue', 1270),\n",
       " ('get', 1226),\n",
       " ('thank', 932),\n",
       " ('service', 630),\n",
       " ('cancel', 626),\n",
       " ('delay', 610),\n",
       " ('time', 575),\n",
       " ('...', 574),\n",
       " ('-', 553),\n",
       " ('\"', 543),\n",
       " ('help', 540),\n",
       " ('call', 478),\n",
       " ('bag', 477),\n",
       " ('wait', 471)]"
      ]
     },
     "execution_count": 9,
     "metadata": {},
     "output_type": "execute_result"
    }
   ],
   "source": [
    "list(vocab_all.items())[:20]"
   ]
  },
  {
   "cell_type": "markdown",
   "metadata": {},
   "source": [
    "Even though we already removed stop words during our tokenization step, it still seems from the output above that many of the most common occuring words across the full dataset are not very informative. So we will likely still end up benefiting from removing some of these words from the positive, negative, and neutral vocabularies that we created. The value of $500$ that we chose seems arbtrary here but in practice we would assess the model performance (on the validation dataset) for many different values both less than and greater than $500$. Even though our model is ad hoc, we can this of this number as a [__hyperparameter__](https://en.wikipedia.org/wiki/Hyperparameter_(machine_learning)) since it is not directly learned from the data but can be used to tune the performance of the model. In practice, we would want to look at the accuracy for both the training and validation data across many different values. "
   ]
  },
  {
   "cell_type": "code",
   "execution_count": 10,
   "metadata": {},
   "outputs": [
    {
     "name": "stdout",
     "output_type": "stream",
     "text": [
      "number of unique tokens overall: 9455, pos tokens: 1812, neg: 5893, neu: 2730\n"
     ]
    }
   ],
   "source": [
    "top_n_to_remove = 1000 #500 #500 #1000 # for our ad hoc model we can think of this as a type of hyperparameter\n",
    "for i, item in enumerate(vocab_all.items()):\n",
    "    if i == top_n_to_remove:\n",
    "        break\n",
    "    #print(f\" removing token: {item[0]:15} (w/ freq = {item[1]:5}) from vocabs\")\n",
    "    if item[0] in vocab_pos:\n",
    "        del vocab_pos[item[0]]\n",
    "    if item[0] in vocab_neg:\n",
    "        del vocab_neg[item[0]]\n",
    "    if item[0] in vocab_neu:\n",
    "        del vocab_neu[item[0]]\n",
    "\n",
    "print(f\"number of unique tokens overall: {len(vocab_all)}, pos tokens: {len(vocab_pos)}, neg: {len(vocab_neg)}, neu: {len(vocab_neu)}\")"
   ]
  },
  {
   "cell_type": "code",
   "execution_count": 11,
   "metadata": {},
   "outputs": [
    {
     "data": {
      "text/plain": [
       "[('👏', 11),\n",
       " (':-)', 11),\n",
       " ('👌', 10),\n",
       " ('safely', 8),\n",
       " ('beautiful', 8),\n",
       " ('@fortunemagazine', 7),\n",
       " ('sweet', 7),\n",
       " ('perfect', 7),\n",
       " ('💙', 7),\n",
       " ('smile', 6)]"
      ]
     },
     "execution_count": 11,
     "metadata": {},
     "output_type": "execute_result"
    }
   ],
   "source": [
    "list(vocab_pos.items())[:10]"
   ]
  },
  {
   "cell_type": "code",
   "execution_count": 12,
   "metadata": {},
   "outputs": [
    {
     "data": {
      "text/plain": [
       "[('14', 11),\n",
       " ('equipment', 11),\n",
       " ('fire', 11),\n",
       " ('acceptable', 11),\n",
       " ('annoy', 11),\n",
       " ('plenty', 11),\n",
       " ('delivery', 11),\n",
       " ('dollars', 11),\n",
       " ('apologies', 11),\n",
       " ('slow', 11)]"
      ]
     },
     "execution_count": 12,
     "metadata": {},
     "output_type": "execute_result"
    }
   ],
   "source": [
    "list(vocab_neg.items())[:10]"
   ]
  },
  {
   "cell_type": "code",
   "execution_count": 13,
   "metadata": {},
   "outputs": [
    {
     "data": {
      "text/plain": [
       "[('street', 11),\n",
       " ('journal', 10),\n",
       " ('battle', 10),\n",
       " ('daily', 8),\n",
       " ('appease', 8),\n",
       " ('contest', 7),\n",
       " ('dmed', 6),\n",
       " ('death', 6),\n",
       " ('jblu', 6),\n",
       " ('promo', 6)]"
      ]
     },
     "execution_count": 13,
     "metadata": {},
     "output_type": "execute_result"
    }
   ],
   "source": [
    "list(vocab_neu.items())[:10]"
   ]
  },
  {
   "cell_type": "markdown",
   "metadata": {},
   "source": [
    "As before, those words look pretty good since they seem to have a positive, negative, neutral connotation, respectively.  Now, let's try classifying the tweets by looking at one and counting how many tokens it has from the top k tokens in the vocab_pos, vocab_neg, and vocab_neutral sets. Whichever vocab it has the greatest number of tokens from, let's classify it as that. \n",
    "\n",
    "To accomplish this let's first create a single object here that represents our 'model'. This object is a dictionary data type and holds the vocabulary for each of positive, negative, and neutral classes. Note that below we are including _all_ of the tokens for each label because we are simply using a '[:]' in the square brackets, but we could easily include just the top $p$ positive tokens, top $p$ negative, etc. for $p$ equal to, say, $100$ using '[:100]'. This can be considered another hyperparameter for ad hoc model. "
   ]
  },
  {
   "cell_type": "code",
   "execution_count": 14,
   "metadata": {},
   "outputs": [
    {
     "name": "stdout",
     "output_type": "stream",
     "text": [
      "example of tweet to classify: \n",
      "  sentiment = negative \n",
      "  tweet = @JetBlue figured but delay is listed at almost 2 hrs. Thanks for being great! Cheers\n",
      "\n",
      " vocab counts: pos = 1,  neg = 0,  neu = 0\n"
     ]
    }
   ],
   "source": [
    "# put positive, negative, neutral words together into a single object to create our 'model'\n",
    "classifier_tokens = {\"positive\": list(vocab_pos.keys())[:], \"negative\": list(vocab_neg.keys())[:], \"neutral\": list(vocab_neu.keys())[:]}\n",
    "\n",
    "# a sample tweet to classify\n",
    "tweet2classify_i = 45\n",
    "tweet2classify = df.iloc[tweet2classify_i,:]['tokens']\n",
    "print(f\"example of tweet to classify: \\n  sentiment = {df.iloc[tweet2classify_i,0]} \\n  tweet = {df.iloc[tweet2classify_i,1]}\")\n",
    "\n",
    "pos = 0\n",
    "neg = 0\n",
    "neu = 0\n",
    "for tok in tweet2classify:\n",
    "    if tok in classifier_tokens['positive']:\n",
    "        pos += 1\n",
    "    elif tok in classifier_tokens['negative']:\n",
    "        neg += 1\n",
    "    elif tok in classifier_tokens['neutral']:\n",
    "        neu += 1\n",
    "\n",
    "print(f\"\\n vocab counts: pos = {pos},  neg = {neg},  neu = {neu}\")"
   ]
  },
  {
   "cell_type": "markdown",
   "metadata": {},
   "source": [
    "Let's define a function to predict the sentiment of a tweet using our ad hoc approach of counting the occurrence of words from the positive, negative, and neutral vocabularies. "
   ]
  },
  {
   "cell_type": "code",
   "execution_count": 15,
   "metadata": {},
   "outputs": [],
   "source": [
    "def predict_tweet_sentiment(tweet_tokens):\n",
    "    pos = 0\n",
    "    neg = 0\n",
    "    neu = 0\n",
    "    for tok in tweet_tokens:\n",
    "        if tok in classifier_tokens['positive']:\n",
    "            pos += 1\n",
    "        elif tok in classifier_tokens['negative']:\n",
    "            neg += 1\n",
    "        elif tok in classifier_tokens['neutral']:\n",
    "            neu += 1\n",
    "    if pos > neg and pos > neu:\n",
    "        return \"positive\"\n",
    "    elif neu > pos and neu > neg:\n",
    "        return \"neutral\"\n",
    "    else:\n",
    "        return \"negative\""
   ]
  },
  {
   "cell_type": "code",
   "execution_count": 16,
   "metadata": {},
   "outputs": [],
   "source": [
    "# split dataset into train and validation/test\n"
   ]
  },
  {
   "cell_type": "markdown",
   "metadata": {},
   "source": [
    "Make predictions for the training dataset and check the performance with accuracy and a confusion matrix. "
   ]
  },
  {
   "cell_type": "code",
   "execution_count": 17,
   "metadata": {},
   "outputs": [
    {
     "name": "stdout",
     "output_type": "stream",
     "text": [
      "our ad hoc model's accuracy on training dataset: 76.56%\n"
     ]
    },
    {
     "data": {
      "image/png": "[encoded data removed]",
      "text/plain": [
       "<Figure size 640x480 with 2 Axes>"
      ]
     },
     "metadata": {},
     "output_type": "display_data"
    }
   ],
   "source": [
    "# make predictions for training dataset\n",
    "df['predicted_sentiment'] = df['tokens'].apply(lambda x: predict_tweet_sentiment(x))\n",
    "\n",
    "# check performance on training dataset\n",
    "from sklearn.metrics import confusion_matrix, ConfusionMatrixDisplay, accuracy_score\n",
    "disp = ConfusionMatrixDisplay(confusion_matrix(df['sentiment'], df['predicted_sentiment']), display_labels=['negative', 'neutral', 'positive'])\n",
    "disp.plot()\n",
    "mod_accuracy = accuracy_score(df['sentiment'], df['predicted_sentiment'])\n",
    "print(f\"our ad hoc model's accuracy on training dataset: {mod_accuracy*100:.2f}%\")"
   ]
  },
  {
   "cell_type": "markdown",
   "metadata": {},
   "source": [
    "Let's now assess the performance of our model on the validation data (i.e. 'df_test'). "
   ]
  },
  {
   "cell_type": "code",
   "execution_count": 18,
   "metadata": {},
   "outputs": [
    {
     "name": "stdout",
     "output_type": "stream",
     "text": [
      "our ad hoc model's accuracy on validation dataset: 62.33%\n"
     ]
    },
    {
     "data": {
      "image/png": "[encoded data removed]",
      "text/plain": [
       "<Figure size 640x480 with 2 Axes>"
      ]
     },
     "metadata": {},
     "output_type": "display_data"
    }
   ],
   "source": [
    "# make predictions for the validation/test dataset\n",
    "df_test['predicted_sentiment'] = df_test['tokens'].apply(lambda x: predict_tweet_sentiment(x))\n",
    "\n",
    "# check performance on validation/test dataset\n",
    "disp = ConfusionMatrixDisplay(confusion_matrix(df_test['sentiment'], df_test['predicted_sentiment']), display_labels=['negative', 'neutral', 'positive'])\n",
    "disp.plot()\n",
    "mod_accuracy = accuracy_score(df_test['sentiment'], df_test['predicted_sentiment'])\n",
    "print(f\"our ad hoc model's accuracy on validation dataset: {mod_accuracy*100:.2f}%\")"
   ]
  },
  {
   "cell_type": "markdown",
   "metadata": {},
   "source": [
    "Let's stop here and think about whether we are assessing the model correctly. That is:\n",
    "1. Are we using a training and validation datasets to get an idea of how our model's  __out-of-sample__ performance? \n",
    "2. Also, are we splitting the dataset at the right time to ensure there is no [__data leakage__](https://en.wikipedia.org/wiki/Leakage_(machine_learning))? "
   ]
  },
  {
   "cell_type": "markdown",
   "metadata": {},
   "source": [
    "### 2. Using a \"real\" ML Model\n",
    "\n",
    "Now that we have tokenized the data, we can quickly vectorize it to get a numeric representation for each tweet. That will then give us the flexibility to select from a much broader range of commonly used machine learning models. We can still use the `df` data frame as the training dataset, and `df_test` as the validation dataset. \n",
    "\n",
    "Just to be sure, let's go ahead and drop the `predicted_sentiment` column from both data frames. We can also drop the `tokens_raw` column since we are no longer using it. "
   ]
  },
  {
   "cell_type": "code",
   "execution_count": 19,
   "metadata": {},
   "outputs": [
    {
     "name": "stdout",
     "output_type": "stream",
     "text": [
      "removing column, predicted_sentiment, from df\n",
      "removing column, predicted_sentiment, from df_test\n",
      "df.shape: (8500, 4)\n",
      "df_test.shape: (1500, 4)\n"
     ]
    },
    {
     "data": {
      "text/html": [
       "<div>\n",
       "<style scoped>\n",
       "    .dataframe tbody tr th:only-of-type {\n",
       "        vertical-align: middle;\n",
       "    }\n",
       "\n",
       "    .dataframe tbody tr th {\n",
       "        vertical-align: top;\n",
       "    }\n",
       "\n",
       "    .dataframe thead th {\n",
       "        text-align: right;\n",
       "    }\n",
       "</style>\n",
       "<table border=\"1\" class=\"dataframe\">\n",
       "  <thead>\n",
       "    <tr style=\"text-align: right;\">\n",
       "      <th></th>\n",
       "      <th>sentiment</th>\n",
       "      <th>text</th>\n",
       "      <th>tokens_raw</th>\n",
       "      <th>tokens</th>\n",
       "    </tr>\n",
       "  </thead>\n",
       "  <tbody>\n",
       "    <tr>\n",
       "      <th>3771</th>\n",
       "      <td>neutral</td>\n",
       "      <td>@JetBlue Come on and provide service from Destin- Fort Walton Beach Airport</td>\n",
       "      <td>[@jetblue, come, provide, service, destin, -, fort, walton, beach, airport]</td>\n",
       "      <td>[@jetblue, come, provide, service, destin, -, fort, walton, beach, airport]</td>\n",
       "    </tr>\n",
       "    <tr>\n",
       "      <th>6672</th>\n",
       "      <td>positive</td>\n",
       "      <td>@JetBlue u the real MVP http://t.co/jWL26G6lRw</td>\n",
       "      <td>[@jetblue, u, real, mvp, http://t.co/jwl26g6lrw]</td>\n",
       "      <td>[@jetblue, u, real, mvp, http://t.co/jwl26g6lrw]</td>\n",
       "    </tr>\n",
       "    <tr>\n",
       "      <th>7261</th>\n",
       "      <td>negative</td>\n",
       "      <td>@SouthwestAir My brother &amp;amp; his girlfriend’s flight Cancelled Flightled 3 times, now leaving 72 hours Late Flight and dropping letter grades at school. Help?</td>\n",
       "      <td>[@southwestair, brother, &amp;, girlfriend, ’, flight, cancelled, flightled, 3, times, ,, leaving, 72, hours, late, flight, dropping, letter, grades, school, help]</td>\n",
       "      <td>[@southwestair, brother, &amp;, girlfriend, ’, flight, cancel, flightled, 3, time, ,, leave, 72, hours, late, flight, drop, letter, grade, school, help]</td>\n",
       "    </tr>\n",
       "    <tr>\n",
       "      <th>760</th>\n",
       "      <td>neutral</td>\n",
       "      <td>@AmericanAir More or less - after a night in a party hotel - no sleep and a 5:30 am rebook- on our way back to PHL http://t.co/4G0K0z2rei</td>\n",
       "      <td>[@americanair, less, -, night, party, hotel, -, sleep, 5:30, rebook, -, way, back, phl, http://t.co/4g0k0z2rei]</td>\n",
       "      <td>[@americanair, less, -, night, party, hotel, -, sleep, 5:30, rebook, -, way, back, phl, http://t.co/4g0k0z2rei]</td>\n",
       "    </tr>\n",
       "    <tr>\n",
       "      <th>3779</th>\n",
       "      <td>neutral</td>\n",
       "      <td>@JetBlue marks 15th birthday with 'Blumanity' paint job - @Dallas_News (blog) http://t.co/lFGR0Nifut</td>\n",
       "      <td>[@jetblue, marks, 15th, birthday, ', blumanity, ', paint, job, -, @dallas_news, (, blog, ), http://t.co/lfgr0nifut]</td>\n",
       "      <td>[@jetblue, mark, 15th, birthday, ', blumanity, ', paint, job, -, @dallas_news, (, blog, ), http://t.co/lfgr0nifut]</td>\n",
       "    </tr>\n",
       "  </tbody>\n",
       "</table>\n",
       "</div>"
      ],
      "text/plain": [
       "     sentiment  \\\n",
       "3771   neutral   \n",
       "6672  positive   \n",
       "7261  negative   \n",
       "760    neutral   \n",
       "3779   neutral   \n",
       "\n",
       "                                                                                                                                                                  text  \\\n",
       "3771                                                                                       @JetBlue Come on and provide service from Destin- Fort Walton Beach Airport   \n",
       "6672                                                                                                                    @JetBlue u the real MVP http://t.co/jWL26G6lRw   \n",
       "7261  @SouthwestAir My brother &amp; his girlfriend’s flight Cancelled Flightled 3 times, now leaving 72 hours Late Flight and dropping letter grades at school. Help?   \n",
       "760                          @AmericanAir More or less - after a night in a party hotel - no sleep and a 5:30 am rebook- on our way back to PHL http://t.co/4G0K0z2rei   \n",
       "3779                                                              @JetBlue marks 15th birthday with 'Blumanity' paint job - @Dallas_News (blog) http://t.co/lFGR0Nifut   \n",
       "\n",
       "                                                                                                                                                           tokens_raw  \\\n",
       "3771                                                                                      [@jetblue, come, provide, service, destin, -, fort, walton, beach, airport]   \n",
       "6672                                                                                                                 [@jetblue, u, real, mvp, http://t.co/jwl26g6lrw]   \n",
       "7261  [@southwestair, brother, &, girlfriend, ’, flight, cancelled, flightled, 3, times, ,, leaving, 72, hours, late, flight, dropping, letter, grades, school, help]   \n",
       "760                                                   [@americanair, less, -, night, party, hotel, -, sleep, 5:30, rebook, -, way, back, phl, http://t.co/4g0k0z2rei]   \n",
       "3779                                              [@jetblue, marks, 15th, birthday, ', blumanity, ', paint, job, -, @dallas_news, (, blog, ), http://t.co/lfgr0nifut]   \n",
       "\n",
       "                                                                                                                                                    tokens  \n",
       "3771                                                                           [@jetblue, come, provide, service, destin, -, fort, walton, beach, airport]  \n",
       "6672                                                                                                      [@jetblue, u, real, mvp, http://t.co/jwl26g6lrw]  \n",
       "7261  [@southwestair, brother, &, girlfriend, ’, flight, cancel, flightled, 3, time, ,, leave, 72, hours, late, flight, drop, letter, grade, school, help]  \n",
       "760                                        [@americanair, less, -, night, party, hotel, -, sleep, 5:30, rebook, -, way, back, phl, http://t.co/4g0k0z2rei]  \n",
       "3779                                    [@jetblue, mark, 15th, birthday, ', blumanity, ', paint, job, -, @dallas_news, (, blog, ), http://t.co/lfgr0nifut]  "
      ]
     },
     "execution_count": 19,
     "metadata": {},
     "output_type": "execute_result"
    }
   ],
   "source": [
    "if 'predicted_sentiment' in df.columns:\n",
    "    print(\"removing column, predicted_sentiment, from df\")\n",
    "    df.drop('predicted_sentiment', axis=1, inplace=True)\n",
    "\n",
    "if 'predicted_sentiment' in df_test.columns:\n",
    "    print(\"removing column, predicted_sentiment, from df_test\")\n",
    "    df_test.drop('predicted_sentiment', axis=1, inplace=True)\n",
    "\n",
    "print(f\"df.shape: {df.shape}\")\n",
    "print(f\"df_test.shape: {df_test.shape}\")\n",
    "df.head()"
   ]
  },
  {
   "cell_type": "markdown",
   "metadata": {},
   "source": [
    "The input to the sklearn vectorizer function requires that each observation (i.e. tweet) is in the form of a string, rather than a list of tokens. So we first need to combine the individual tokens for each tweet back into a string, which we do here:"
   ]
  },
  {
   "cell_type": "code",
   "execution_count": 20,
   "metadata": {},
   "outputs": [
    {
     "data": {
      "text/html": [
       "<div>\n",
       "<style scoped>\n",
       "    .dataframe tbody tr th:only-of-type {\n",
       "        vertical-align: middle;\n",
       "    }\n",
       "\n",
       "    .dataframe tbody tr th {\n",
       "        vertical-align: top;\n",
       "    }\n",
       "\n",
       "    .dataframe thead th {\n",
       "        text-align: right;\n",
       "    }\n",
       "</style>\n",
       "<table border=\"1\" class=\"dataframe\">\n",
       "  <thead>\n",
       "    <tr style=\"text-align: right;\">\n",
       "      <th></th>\n",
       "      <th>sentiment</th>\n",
       "      <th>text</th>\n",
       "      <th>tokens_raw</th>\n",
       "      <th>tokens</th>\n",
       "      <th>textclean</th>\n",
       "    </tr>\n",
       "  </thead>\n",
       "  <tbody>\n",
       "    <tr>\n",
       "      <th>3771</th>\n",
       "      <td>neutral</td>\n",
       "      <td>@JetBlue Come on and provide service from Destin- Fort Walton Beach Airport</td>\n",
       "      <td>[@jetblue, come, provide, service, destin, -, fort, walton, beach, airport]</td>\n",
       "      <td>[@jetblue, come, provide, service, destin, -, fort, walton, beach, airport]</td>\n",
       "      <td>@jetblue come provide service destin - fort walton beach airport</td>\n",
       "    </tr>\n",
       "    <tr>\n",
       "      <th>6672</th>\n",
       "      <td>positive</td>\n",
       "      <td>@JetBlue u the real MVP http://t.co/jWL26G6lRw</td>\n",
       "      <td>[@jetblue, u, real, mvp, http://t.co/jwl26g6lrw]</td>\n",
       "      <td>[@jetblue, u, real, mvp, http://t.co/jwl26g6lrw]</td>\n",
       "      <td>@jetblue u real mvp http://t.co/jwl26g6lrw</td>\n",
       "    </tr>\n",
       "    <tr>\n",
       "      <th>7261</th>\n",
       "      <td>negative</td>\n",
       "      <td>@SouthwestAir My brother &amp;amp; his girlfriend’s flight Cancelled Flightled 3 times, now leaving 72 hours Late Flight and dropping letter grades at school. Help?</td>\n",
       "      <td>[@southwestair, brother, &amp;, girlfriend, ’, flight, cancelled, flightled, 3, times, ,, leaving, 72, hours, late, flight, dropping, letter, grades, school, help]</td>\n",
       "      <td>[@southwestair, brother, &amp;, girlfriend, ’, flight, cancel, flightled, 3, time, ,, leave, 72, hours, late, flight, drop, letter, grade, school, help]</td>\n",
       "      <td>@southwestair brother &amp; girlfriend ’ flight cancel flightled 3 time , leave 72 hours late flight drop letter grade school help</td>\n",
       "    </tr>\n",
       "    <tr>\n",
       "      <th>760</th>\n",
       "      <td>neutral</td>\n",
       "      <td>@AmericanAir More or less - after a night in a party hotel - no sleep and a 5:30 am rebook- on our way back to PHL http://t.co/4G0K0z2rei</td>\n",
       "      <td>[@americanair, less, -, night, party, hotel, -, sleep, 5:30, rebook, -, way, back, phl, http://t.co/4g0k0z2rei]</td>\n",
       "      <td>[@americanair, less, -, night, party, hotel, -, sleep, 5:30, rebook, -, way, back, phl, http://t.co/4g0k0z2rei]</td>\n",
       "      <td>@americanair less - night party hotel - sleep 5:30 rebook - way back phl http://t.co/4g0k0z2rei</td>\n",
       "    </tr>\n",
       "    <tr>\n",
       "      <th>3779</th>\n",
       "      <td>neutral</td>\n",
       "      <td>@JetBlue marks 15th birthday with 'Blumanity' paint job - @Dallas_News (blog) http://t.co/lFGR0Nifut</td>\n",
       "      <td>[@jetblue, marks, 15th, birthday, ', blumanity, ', paint, job, -, @dallas_news, (, blog, ), http://t.co/lfgr0nifut]</td>\n",
       "      <td>[@jetblue, mark, 15th, birthday, ', blumanity, ', paint, job, -, @dallas_news, (, blog, ), http://t.co/lfgr0nifut]</td>\n",
       "      <td>@jetblue mark 15th birthday ' blumanity ' paint job - @dallas_news ( blog ) http://t.co/lfgr0nifut</td>\n",
       "    </tr>\n",
       "  </tbody>\n",
       "</table>\n",
       "</div>"
      ],
      "text/plain": [
       "     sentiment  \\\n",
       "3771   neutral   \n",
       "6672  positive   \n",
       "7261  negative   \n",
       "760    neutral   \n",
       "3779   neutral   \n",
       "\n",
       "                                                                                                                                                                  text  \\\n",
       "3771                                                                                       @JetBlue Come on and provide service from Destin- Fort Walton Beach Airport   \n",
       "6672                                                                                                                    @JetBlue u the real MVP http://t.co/jWL26G6lRw   \n",
       "7261  @SouthwestAir My brother &amp; his girlfriend’s flight Cancelled Flightled 3 times, now leaving 72 hours Late Flight and dropping letter grades at school. Help?   \n",
       "760                          @AmericanAir More or less - after a night in a party hotel - no sleep and a 5:30 am rebook- on our way back to PHL http://t.co/4G0K0z2rei   \n",
       "3779                                                              @JetBlue marks 15th birthday with 'Blumanity' paint job - @Dallas_News (blog) http://t.co/lFGR0Nifut   \n",
       "\n",
       "                                                                                                                                                           tokens_raw  \\\n",
       "3771                                                                                      [@jetblue, come, provide, service, destin, -, fort, walton, beach, airport]   \n",
       "6672                                                                                                                 [@jetblue, u, real, mvp, http://t.co/jwl26g6lrw]   \n",
       "7261  [@southwestair, brother, &, girlfriend, ’, flight, cancelled, flightled, 3, times, ,, leaving, 72, hours, late, flight, dropping, letter, grades, school, help]   \n",
       "760                                                   [@americanair, less, -, night, party, hotel, -, sleep, 5:30, rebook, -, way, back, phl, http://t.co/4g0k0z2rei]   \n",
       "3779                                              [@jetblue, marks, 15th, birthday, ', blumanity, ', paint, job, -, @dallas_news, (, blog, ), http://t.co/lfgr0nifut]   \n",
       "\n",
       "                                                                                                                                                    tokens  \\\n",
       "3771                                                                           [@jetblue, come, provide, service, destin, -, fort, walton, beach, airport]   \n",
       "6672                                                                                                      [@jetblue, u, real, mvp, http://t.co/jwl26g6lrw]   \n",
       "7261  [@southwestair, brother, &, girlfriend, ’, flight, cancel, flightled, 3, time, ,, leave, 72, hours, late, flight, drop, letter, grade, school, help]   \n",
       "760                                        [@americanair, less, -, night, party, hotel, -, sleep, 5:30, rebook, -, way, back, phl, http://t.co/4g0k0z2rei]   \n",
       "3779                                    [@jetblue, mark, 15th, birthday, ', blumanity, ', paint, job, -, @dallas_news, (, blog, ), http://t.co/lfgr0nifut]   \n",
       "\n",
       "                                                                                                                           textclean  \n",
       "3771                                                                @jetblue come provide service destin - fort walton beach airport  \n",
       "6672                                                                                      @jetblue u real mvp http://t.co/jwl26g6lrw  \n",
       "7261  @southwestair brother & girlfriend ’ flight cancel flightled 3 time , leave 72 hours late flight drop letter grade school help  \n",
       "760                                  @americanair less - night party hotel - sleep 5:30 rebook - way back phl http://t.co/4g0k0z2rei  \n",
       "3779                              @jetblue mark 15th birthday ' blumanity ' paint job - @dallas_news ( blog ) http://t.co/lfgr0nifut  "
      ]
     },
     "execution_count": 20,
     "metadata": {},
     "output_type": "execute_result"
    }
   ],
   "source": [
    "df['textclean'] = df['tokens'].apply(lambda x: ' '.join(x))\n",
    "df.head()"
   ]
  },
  {
   "cell_type": "markdown",
   "metadata": {},
   "source": [
    "Now we will load the term-frequency inverse-document-frequency vectorizer from sklearn, `TfidfVectorizer`, to convert each tweet into a vector. We'll go ahead and call the resulting vectorized data, `X`, or `X_train` since it is only the training dataset. As with conventional statistical models, \"_X_\" represents the set of predictors, or independent variables. \n",
    "\n",
    "Also, note that `TfidfVectorizer` is a powerful text processing object. It has the ability to remove stop words, strip symbols, and do much of the work that our manual tokenization did. As such, we could easily use the original tweet text here, but we'll go ahead and continue with our manually tokenized data in the column, `textclean`. "
   ]
  },
  {
   "cell_type": "code",
   "execution_count": 21,
   "metadata": {},
   "outputs": [
    {
     "name": "stdout",
     "output_type": "stream",
     "text": [
      "X_train.shape = (8500, 8671)\n"
     ]
    },
    {
     "data": {
      "text/plain": [
       "numpy.ndarray"
      ]
     },
     "execution_count": 21,
     "metadata": {},
     "output_type": "execute_result"
    }
   ],
   "source": [
    "from sklearn.feature_extraction.text import TfidfVectorizer\n",
    "#import seaborn as sns\n",
    "tfidf_vectorizer = TfidfVectorizer()\n",
    "X_train = tfidf_vectorizer.fit_transform(df['textclean']).toarray()\n",
    "#X_train = tfidf_vectorizer.fit_transform(df['text']).toarray() # original tweet text (without our manual tokenization)\n",
    "\n",
    "#from sklearn.feature_extraction.text import CountVectorizer\n",
    "#one_hot_vectorizer = CountVectorizer(binary=True)\n",
    "#tweet_matrix = one_hot_vectorizer.fit_transform(list(df['textclean']))#.toarray()\n",
    "\n",
    "print(f\"X_train.shape = {X_train.shape}\")\n",
    "type(X_train)"
   ]
  },
  {
   "cell_type": "markdown",
   "metadata": {},
   "source": [
    "Note that the data type for `X_train` is no longer a pandas data frame. Instead, it is a numpy ndarray. We will talk much more about the python module, numpy, and its data types in the coming week. For now, let's just think of it a more efficently implemented object than a pandas data frame (e.g. smaller memory footprint), and one that we can think of a more of a matrix than a table of data. This can be seen by how we can easily index into `X_train` without the need for methods such as `iloc` or `loc`. Here we will look at the first 5 rows and 10 columns."
   ]
  },
  {
   "cell_type": "code",
   "execution_count": 22,
   "metadata": {},
   "outputs": [
    {
     "data": {
      "text/plain": [
       "array([[0., 0., 0., 0., 0., 0., 0., 0., 0., 0.],\n",
       "       [0., 0., 0., 0., 0., 0., 0., 0., 0., 0.],\n",
       "       [0., 0., 0., 0., 0., 0., 0., 0., 0., 0.],\n",
       "       [0., 0., 0., 0., 0., 0., 0., 0., 0., 0.],\n",
       "       [0., 0., 0., 0., 0., 0., 0., 0., 0., 0.]])"
      ]
     },
     "execution_count": 22,
     "metadata": {},
     "output_type": "execute_result"
    }
   ],
   "source": [
    "X_train[:5, :10]"
   ]
  },
  {
   "cell_type": "markdown",
   "metadata": {},
   "source": [
    "Looking at the output above, and back at the dimensions of `X_train` two cells back, what does this tell you about the data (aside from the size of the training data)? Specifically, what do the number of columns represent?\n",
    "\n",
    "If you're not sure, then look at the output of the following cell. We are looking at the first row of the training dataset, `X_train` again, but looking only at the non-zero values. These are the term-frequency inverse-document-frequency values for this tweet. "
   ]
  },
  {
   "cell_type": "code",
   "execution_count": 23,
   "metadata": {},
   "outputs": [
    {
     "name": "stdout",
     "output_type": "stream",
     "text": [
      "obs1 token at column i=1327, has a non-zero TF-IDF value: 0.23197575400400638\n",
      "obs1 token at column i=1790, has a non-zero TF-IDF value: 0.40022186397127696\n",
      "obs1 token at column i=2433, has a non-zero TF-IDF value: 0.2551460675845881\n",
      "obs1 token at column i=2908, has a non-zero TF-IDF value: 0.4621055149032632\n",
      "obs1 token at column i=3725, has a non-zero TF-IDF value: 0.3878075008834325\n",
      "obs1 token at column i=4654, has a non-zero TF-IDF value: 0.14358409286260168\n",
      "obs1 token at column i=6321, has a non-zero TF-IDF value: 0.3011629312445256\n",
      "obs1 token at column i=6968, has a non-zero TF-IDF value: 0.17921221755590624\n",
      "obs1 token at column i=8331, has a non-zero TF-IDF value: 0.4621055149032632\n"
     ]
    }
   ],
   "source": [
    "obs1 = list(X_train[0,:])\n",
    "for i, tfidf_val in enumerate(obs1):\n",
    "    if tfidf_val > 0:\n",
    "        print(f\"obs1 token at column i={i}, has a non-zero TF-IDF value: {tfidf_val}\")"
   ]
  },
  {
   "cell_type": "markdown",
   "metadata": {},
   "source": [
    "If we wanted to, we could retrieve the token associated with each column of `X_train` by using the `tfidf_vectorizer`. Let's do that now just to see if we can try to recover the tweet. You'll notice that we can't recover the ordering of the words, but rather just the set of words that were in the tweet. "
   ]
  },
  {
   "cell_type": "code",
   "execution_count": 24,
   "metadata": {},
   "outputs": [
    {
     "name": "stdout",
     "output_type": "stream",
     "text": [
      "obs1 has a non-zero TF-IDF value: 0.23197575400400638 at col i=1327 (associated with token: airport)\n",
      "obs1 has a non-zero TF-IDF value: 0.40022186397127696 at col i=1790 (associated with token: beach)\n",
      "obs1 has a non-zero TF-IDF value: 0.2551460675845881 at col i=2433 (associated with token: come)\n",
      "obs1 has a non-zero TF-IDF value: 0.4621055149032632 at col i=2908 (associated with token: destin)\n",
      "obs1 has a non-zero TF-IDF value: 0.3878075008834325 at col i=3725 (associated with token: fort)\n",
      "obs1 has a non-zero TF-IDF value: 0.14358409286260168 at col i=4654 (associated with token: jetblue)\n",
      "obs1 has a non-zero TF-IDF value: 0.3011629312445256 at col i=6321 (associated with token: provide)\n",
      "obs1 has a non-zero TF-IDF value: 0.17921221755590624 at col i=6968 (associated with token: service)\n",
      "obs1 has a non-zero TF-IDF value: 0.4621055149032632 at col i=8331 (associated with token: walton)\n"
     ]
    }
   ],
   "source": [
    "obs1 = list(X_train[0,:])\n",
    "for i, tfidf_val in enumerate(obs1):\n",
    "    if tfidf_val > 0:\n",
    "        print(f\"obs1 has a non-zero TF-IDF value: {tfidf_val} at col i={i} (associated with token: {tfidf_vectorizer.get_feature_names_out()[i]})\")"
   ]
  },
  {
   "cell_type": "markdown",
   "metadata": {},
   "source": [
    "We can verify this by going back to our training dataset, `df`, and checking what the first observation was. Looking at the output below. As stated above, we see that the same words are present in the data but not necessarily in the same order. Disregarding word order when vectorizing text data is sometimes (informally) referred to as a \"[__bag-of-words__](https://en.wikipedia.org/wiki/Bag-of-words_model)\" approach. Often times, \"__bag-of-words__\" suggests that just the counts (i.e. __term frequency__) is used, rather than what we are using here, __term-frequency inverse-document-frequency__. Nonetheless, the underlying idea that words frequency is accounted for, but word order is neglected, is an important observation to make here."
   ]
  },
  {
   "cell_type": "code",
   "execution_count": 25,
   "metadata": {},
   "outputs": [
    {
     "data": {
      "text/plain": [
       "sentiment                                                                         neutral\n",
       "text          @JetBlue Come on and provide service from Destin- Fort Walton Beach Airport\n",
       "tokens_raw    [@jetblue, come, provide, service, destin, -, fort, walton, beach, airport]\n",
       "tokens        [@jetblue, come, provide, service, destin, -, fort, walton, beach, airport]\n",
       "textclean                @jetblue come provide service destin - fort walton beach airport\n",
       "Name: 3771, dtype: object"
      ]
     },
     "execution_count": 25,
     "metadata": {},
     "output_type": "execute_result"
    }
   ],
   "source": [
    "df.iloc[0,:]"
   ]
  },
  {
   "cell_type": "markdown",
   "metadata": {},
   "source": [
    "A good default model to start with that does not require too much fine tuning, and generally performs well is a [__Random Forest__](https://en.wikipedia.org/wiki/Random_forest) model. We won't dig into the details of how an RF model works exactly, but so long as we know that it creates many decision trees on random subsets of the data, then you've got a decent idea. Before doing so, we also need to convert the labels (i.e. `df.sentiment`) to a numpy data type. We'll quickly do that now and look at the first few observations. "
   ]
  },
  {
   "cell_type": "code",
   "execution_count": 26,
   "metadata": {},
   "outputs": [
    {
     "data": {
      "text/plain": [
       "array(['neutral', 'positive', 'negative', 'neutral', 'neutral',\n",
       "       'negative', 'negative', 'negative', 'neutral', 'positive'],\n",
       "      dtype=object)"
      ]
     },
     "execution_count": 26,
     "metadata": {},
     "output_type": "execute_result"
    }
   ],
   "source": [
    "y_train = df.sentiment.to_numpy()\n",
    "y_train[:10]"
   ]
  },
  {
   "cell_type": "markdown",
   "metadata": {},
   "source": [
    "We'll not fit the random forest model on the training data and check the performance. "
   ]
  },
  {
   "cell_type": "code",
   "execution_count": 27,
   "metadata": {},
   "outputs": [
    {
     "name": "stdout",
     "output_type": "stream",
     "text": [
      "accuracy (on X_train): 0.9981\n"
     ]
    },
    {
     "data": {
      "image/png": "[encoded data removed]",
      "text/plain": [
       "<Figure size 640x480 with 2 Axes>"
      ]
     },
     "metadata": {},
     "output_type": "display_data"
    }
   ],
   "source": [
    "from sklearn.ensemble import RandomForestClassifier\n",
    "model = RandomForestClassifier(n_estimators=200)\n",
    "model = model.fit(X_train, y_train)\n",
    "\n",
    "predictions_train = model.predict(X_train)\n",
    "predictions_train\n",
    "\n",
    "disp = ConfusionMatrixDisplay(confusion_matrix(df['sentiment'], predictions_train), display_labels=['negative', 'neutral', 'positive'])\n",
    "disp.plot()\n",
    "print(f\"accuracy (on X_train): {accuracy_score(df['sentiment'], predictions_train):.4f}\")"
   ]
  },
  {
   "cell_type": "markdown",
   "metadata": {},
   "source": [
    "Wow! Accuracy of ~99% is much better than what we saw with our ad hoc model. Let's check and see how well the model does on the validation dataset now.\n",
    "\n",
    "Notice that we are using `tfidf_vectorizer.transform()` now, and not the same method we used before on the training dataset, which was `tfidf_vectorizer.fit_transform()`. The `fit_transform` method creates the vocabulary from the training data. The `transform` method will use the vocabulary that was previously made, but if it encounters a token in the validation data that was never seen in the training data, then it will simply ignore it. This is one reason why making sure that training data for models is regularly updated."
   ]
  },
  {
   "cell_type": "code",
   "execution_count": 28,
   "metadata": {},
   "outputs": [
    {
     "data": {
      "text/plain": [
       "(1500, 8671)"
      ]
     },
     "execution_count": 28,
     "metadata": {},
     "output_type": "execute_result"
    }
   ],
   "source": [
    "df_test['textclean'] = df_test['tokens'].apply(lambda x: ' '.join(x))\n",
    "X_test = tfidf_vectorizer.transform(df_test['textclean']).toarray()\n",
    "X_test.shape"
   ]
  },
  {
   "cell_type": "code",
   "execution_count": 29,
   "metadata": {},
   "outputs": [
    {
     "name": "stdout",
     "output_type": "stream",
     "text": [
      "accuracy (on X_test): 0.7800\n"
     ]
    },
    {
     "data": {
      "image/png": "[encoded data removed]",
      "text/plain": [
       "<Figure size 640x480 with 2 Axes>"
      ]
     },
     "metadata": {},
     "output_type": "display_data"
    }
   ],
   "source": [
    "predictions_test = model.predict(X_test)\n",
    "disp = ConfusionMatrixDisplay(confusion_matrix(df_test['sentiment'], predictions_test), display_labels=['negative', 'neutral', 'positive'])\n",
    "disp.plot()\n",
    "print(f\"accuracy (on X_test): {accuracy_score(df_test['sentiment'], predictions_test):.4f}\")"
   ]
  },
  {
   "cell_type": "markdown",
   "metadata": {},
   "source": [
    "Okay, the model performance on the validation data is not nearly as good as the performance on the training dataset. That's expected to some degree. \n",
    "\n",
    "We may be able to improve it slightly by finding the optimal value of one of the random forest hyperparameters, e.g. `n_estimators`. However, one of the strengths of random forest is not it does a good job of overfitting. Knowing that, how do you think smaller values of `n_estimators` will affect accuracy on the validation data? How do you think larger values will affect it? Try a few different values of `n_estimators`, both larger and smaller than the default of `n_estimators=100`, to see what happens.\n",
    "\n",
    "Below we go ahead and try many different hyperparameter values (for n_estimators) to see what the best value is. As can be seen, there is not an immediately obvious choice for the best value of the n_estimators hyperparameter, which is exactly why random forest is such a nice to model to use at the beginning. Admittedly, an RF model might not perform as well as some other machine learning models, but it is reliable and does a decent job at balancing the Bias-Variance Tradeoff right away without a lot of tuning. "
   ]
  },
  {
   "cell_type": "markdown",
   "metadata": {},
   "source": []
  },
  {
   "cell_type": "code",
   "execution_count": 30,
   "metadata": {},
   "outputs": [],
   "source": [
    "from sklearn.metrics import log_loss\n",
    "\n",
    "# A function to create and fit a RF with a specific number of trees\n",
    "def fitRFModel(hyperparam_value):\n",
    "    rf_model = RandomForestClassifier(n_estimators=hyperparam_value, random_state=5)\n",
    "    #rf_model = RandomForestClassifier(min_samples_split=hyperparam_value, random_state=1)\n",
    "    rf_model.fit(X_train, y_train)\n",
    "    y_train_pred_prob = rf_model.predict_proba(X_train)\n",
    "    y_train_pred = rf_model.predict(X_train)\n",
    "    y_val_pred_prob = rf_model.predict_proba(X_test)\n",
    "    y_val_pred = rf_model.predict(X_test)\n",
    "    train_loss = log_loss(df['sentiment'], y_train_pred_prob, labels=['negative', 'neutral', 'positive']) #, F.binary_cross_entropy(torch.tensor(y_train_pred), torch.tensor(y_train.to_numpy().astype(float)), reduction=\"mean\")\n",
    "    train_acc = accuracy_score(df['sentiment'], y_train_pred)\n",
    "    val_loss = log_loss(df_test['sentiment'], y_val_pred_prob, labels=['negative', 'neutral', 'positive']) #F.binary_cross_entropy(torch.tensor(y_val_pred), torch.tensor(y_val.to_numpy().astype(float)), reduction=\"mean\")\n",
    "    val_acc = accuracy_score(df_test['sentiment'], y_val_pred)\n",
    "    #return((train_loss.item(), val_loss.item()))\n",
    "    return (train_loss, val_loss, train_acc, val_acc)\n",
    "\n",
    "# Possible values of min_samples_split are 10 to 70 (by 5)\n",
    "hyp_param_vals = list(range(5,151,10))\n",
    "#hyp_param_vals = [5] + list(range(10,201,10))\n",
    "metrics = []\n",
    "for hp in hyp_param_vals:\n",
    "    metrics.append(fitRFModel(hp))"
   ]
  },
  {
   "cell_type": "code",
   "execution_count": 31,
   "metadata": {},
   "outputs": [
    {
     "data": {
      "image/png": "[encoded data removed]",
      "text/plain": [
       "<Figure size 1200x600 with 1 Axes>"
      ]
     },
     "metadata": {},
     "output_type": "display_data"
    }
   ],
   "source": [
    "import matplotlib.pyplot as plt\n",
    "fig = plt.figure(figsize=(12, 6))\n",
    "ax = fig.add_axes([0, 0, 1, 1]) #.1, 0.1, 0.8, 0.8]) # main axes\n",
    "ax.plot(hyp_param_vals, [metric[1] for metric in metrics], '--ro') # validattion loss\n",
    "ax.plot(hyp_param_vals, [metric[0] for metric in metrics], '--bo') # training loss\n",
    "ax.legend([\"Validation Loss\", \"Train Loss\"], loc=1)\n",
    "ax.set_xticks(hyp_param_vals)\n",
    "ax.set(xlabel=\"n_estimators\", ylabel=\"loss (lower is better)\")\n",
    "plt.show()"
   ]
  },
  {
   "cell_type": "code",
   "execution_count": 32,
   "metadata": {},
   "outputs": [
    {
     "data": {
      "image/png": "[encoded data removed]",
      "text/plain": [
       "<Figure size 1200x600 with 1 Axes>"
      ]
     },
     "metadata": {},
     "output_type": "display_data"
    }
   ],
   "source": [
    "fig = plt.figure(figsize=(12, 6))\n",
    "ax = fig.add_axes([0, 0, 1, 1]) #.1, 0.1, 0.8, 0.8]) # main axes\n",
    "ax.plot(hyp_param_vals, [metric[3] for metric in metrics], '--ro') # validattion accuracy\n",
    "ax.plot(hyp_param_vals, [metric[2] for metric in metrics], '--bo') # training accuracy\n",
    "ax.legend([\"Validation Accuracy\", \"Train Accuracy\"], loc=4)\n",
    "ax.set_xticks(hyp_param_vals)\n",
    "ax.set(xlabel=\"n_estimators\", ylabel=\"accuracy (higher is better)\")\n",
    "plt.show()"
   ]
  },
  {
   "cell_type": "code",
   "execution_count": null,
   "metadata": {},
   "outputs": [],
   "source": []
  }
 ],
 "metadata": {
  "kernelspec": {
   "display_name": "Python 3.9.13 ('nlpProj')",
   "language": "python",
   "name": "python3"
  },
  "language_info": {
   "codemirror_mode": {
    "name": "ipython",
    "version": 3
   },
   "file_extension": ".py",
   "mimetype": "text/x-python",
   "name": "python",
   "nbconvert_exporter": "python",
   "pygments_lexer": "ipython3",
   "version": "3.9.13"
  },
  "vscode": {
   "interpreter": {
    "hash": "b34940b68f42765500b06a5bff1526c43e9cf16917429620a7b1b96d08e5bb48"
   }
  }
 },
 "nbformat": 4,
 "nbformat_minor": 2
}
